{
 "cells": [
  {
   "cell_type": "code",
   "execution_count": 51,
   "id": "7de7295a",
   "metadata": {
    "ExecuteTime": {
     "end_time": "2024-04-10T12:37:25.098785Z",
     "start_time": "2024-04-10T12:37:25.041938Z"
    }
   },
   "outputs": [
    {
     "name": "stdout",
     "output_type": "stream",
     "text": [
      "The autoreload extension is already loaded. To reload it, use:\n",
      "  %reload_ext autoreload\n"
     ]
    }
   ],
   "source": [
    "%load_ext autoreload\n",
    "%autoreload 2"
   ]
  },
  {
   "cell_type": "code",
   "execution_count": 179,
   "id": "e244d137",
   "metadata": {
    "ExecuteTime": {
     "end_time": "2024-04-11T04:19:40.595606Z",
     "start_time": "2024-04-11T04:19:40.530803Z"
    }
   },
   "outputs": [],
   "source": [
    "import os, sys\n",
    "import numpy as np\n",
    "import pandas as pd\n",
    "import seaborn as sns"
   ]
  },
  {
   "cell_type": "code",
   "execution_count": 53,
   "id": "c49b53cd",
   "metadata": {
    "ExecuteTime": {
     "end_time": "2024-04-10T12:37:27.663173Z",
     "start_time": "2024-04-10T12:37:27.618292Z"
    }
   },
   "outputs": [],
   "source": [
    "sys.path.insert(0, os.path.abspath('../palin/python'))"
   ]
  },
  {
   "cell_type": "code",
   "execution_count": 123,
   "id": "baa1e06a",
   "metadata": {
    "ExecuteTime": {
     "end_time": "2024-04-10T12:56:54.870854Z",
     "start_time": "2024-04-10T12:56:54.764155Z"
    }
   },
   "outputs": [],
   "source": [
    "from palin.simulation.simple_experiment import SimpleExperiment\n",
    "from palin.simulation.double_pass_experiment import DoublePassExperiment\n",
    "from palin.simulation.trial import Int2Trial, Int1Trial \n",
    "from palin.simulation.linear_observer import LinearObserver\n",
    "from palin.simulation.kernel_distance import KernelDistance\n",
    "from palin.simulation.internal_noise_value import InternalNoiseValue\n",
    "from palin.simulation.double_pass_statistics import DoublePassStatistics\n",
    "from palin.kernels.classification_images import ClassificationImage\n",
    "from palin.internal_noise.double_pass import DoublePass\n",
    "from palin.simulation.simulation import Simulation as Sim"
   ]
  },
  {
   "cell_type": "markdown",
   "id": "fa2978b0",
   "metadata": {},
   "source": [
    "## Simulate with internal noise"
   ]
  },
  {
   "cell_type": "markdown",
   "id": "bd21029c",
   "metadata": {},
   "source": [
    "Single run"
   ]
  },
  {
   "cell_type": "code",
   "execution_count": 122,
   "id": "2b2b91ae",
   "metadata": {
    "ExecuteTime": {
     "end_time": "2024-04-10T12:42:09.804159Z",
     "start_time": "2024-04-10T12:42:09.665497Z"
    }
   },
   "outputs": [
    {
     "name": "stderr",
     "output_type": "stream",
     "text": [
      "E:\\WORK\\DO\\2022\\palin\\python\\palin\\internal_noise\\double_pass.py:43: FutureWarning: Index.ravel returning ndarray is deprecated; in a future version this will return a view on self.\n",
      "  pass_count_df.columns = [\"_\".join(x) for x in pass_count_df.columns.ravel()]\n"
     ]
    },
    {
     "data": {
      "text/plain": [
       "0.24"
      ]
     },
     "execution_count": 122,
     "metadata": {},
     "output_type": "execute_result"
    }
   ],
   "source": [
    "# single run: \n",
    "exp = DoublePassExperiment(n_trials = 100, n_repeated=50,\n",
    "          trial_type = Int2Trial, \n",
    "          n_features = 5, \n",
    "          external_noise_std = 100)\n",
    "obs = Obs.with_random_kernel(n_features = exp.n_features, \n",
    "                            internal_noise_std = 0, \n",
    "                            criteria = 1)\n",
    "responses = obs.respond_to_experiment(exp)\n",
    "ana = InternalNoiseValue(internal_noise_extractor = DoublePass)\n",
    "ana.analyse(exp, obs, responses)"
   ]
  },
  {
   "cell_type": "markdown",
   "id": "6396b632",
   "metadata": {},
   "source": [
    "Simulation"
   ]
  },
  {
   "cell_type": "code",
   "execution_count": null,
   "id": "21b866b8",
   "metadata": {
    "ExecuteTime": {
     "start_time": "2024-04-11T04:20:32.079Z"
    },
    "scrolled": false
   },
   "outputs": [
    {
     "name": "stdout",
     "output_type": "stream",
     "text": [
      "Running 1 configs\n",
      "{'n_trials': 1000, 'n_repeated': 1000, 'trial_type': <class 'palin.simulation.trial.Int2Trial'>, 'n_features': 1, 'external_noise_std': 100, 'kernel': [1], 'internal_noise_std': 0, 'criteria': 0, 'internal_noise_extractor': <class 'palin.internal_noise.double_pass.DoublePass'>, 'model_file': 'model_11_04_2024.csv', 'rebuild_model': False, 'internal_noise_range': array([0. , 0.1, 0.2, 0.3, 0.4, 0.5, 0.6, 0.7, 0.8, 0.9, 1. , 1.1, 1.2,\n",
      "       1.3, 1.4, 1.5, 1.6, 1.7, 1.8, 1.9, 2. , 2.1, 2.2, 2.3, 2.4, 2.5,\n",
      "       2.6, 2.7, 2.8, 2.9, 3. , 3.1, 3.2, 3.3, 3.4, 3.5, 3.6, 3.7, 3.8,\n",
      "       3.9, 4. , 4.1, 4.2, 4.3, 4.4, 4.5, 4.6, 4.7, 4.8, 4.9, 5. ]), 'criteria_range': array([-5.00000000e+00, -4.90000000e+00, -4.80000000e+00, -4.70000000e+00,\n",
      "       -4.60000000e+00, -4.50000000e+00, -4.40000000e+00, -4.30000000e+00,\n",
      "       -4.20000000e+00, -4.10000000e+00, -4.00000000e+00, -3.90000000e+00,\n",
      "       -3.80000000e+00, -3.70000000e+00, -3.60000000e+00, -3.50000000e+00,\n",
      "       -3.40000000e+00, -3.30000000e+00, -3.20000000e+00, -3.10000000e+00,\n",
      "       -3.00000000e+00, -2.90000000e+00, -2.80000000e+00, -2.70000000e+00,\n",
      "       -2.60000000e+00, -2.50000000e+00, -2.40000000e+00, -2.30000000e+00,\n",
      "       -2.20000000e+00, -2.10000000e+00, -2.00000000e+00, -1.90000000e+00,\n",
      "       -1.80000000e+00, -1.70000000e+00, -1.60000000e+00, -1.50000000e+00,\n",
      "       -1.40000000e+00, -1.30000000e+00, -1.20000000e+00, -1.10000000e+00,\n",
      "       -1.00000000e+00, -9.00000000e-01, -8.00000000e-01, -7.00000000e-01,\n",
      "       -6.00000000e-01, -5.00000000e-01, -4.00000000e-01, -3.00000000e-01,\n",
      "       -2.00000000e-01, -1.00000000e-01, -1.77635684e-14,  1.00000000e-01,\n",
      "        2.00000000e-01,  3.00000000e-01,  4.00000000e-01,  5.00000000e-01,\n",
      "        6.00000000e-01,  7.00000000e-01,  8.00000000e-01,  9.00000000e-01,\n",
      "        1.00000000e+00,  1.10000000e+00,  1.20000000e+00,  1.30000000e+00,\n",
      "        1.40000000e+00,  1.50000000e+00,  1.60000000e+00,  1.70000000e+00,\n",
      "        1.80000000e+00,  1.90000000e+00,  2.00000000e+00,  2.10000000e+00,\n",
      "        2.20000000e+00,  2.30000000e+00,  2.40000000e+00,  2.50000000e+00,\n",
      "        2.60000000e+00,  2.70000000e+00,  2.80000000e+00,  2.90000000e+00,\n",
      "        3.00000000e+00,  3.10000000e+00,  3.20000000e+00,  3.30000000e+00,\n",
      "        3.40000000e+00,  3.50000000e+00,  3.60000000e+00,  3.70000000e+00,\n",
      "        3.80000000e+00,  3.90000000e+00,  4.00000000e+00,  4.10000000e+00,\n",
      "        4.20000000e+00,  4.30000000e+00,  4.40000000e+00,  4.50000000e+00,\n",
      "        4.60000000e+00,  4.70000000e+00,  4.80000000e+00,  4.90000000e+00])}\n",
      ".Rebuilding double-pass model\n"
     ]
    }
   ],
   "source": [
    "observer_params = {'kernel':[[1]],\n",
    "                   'internal_noise_std':[0], \n",
    "                  'criteria':[0]}\n",
    "experiment_params = {'n_trials':[1000],#np.arange(1,1000,100),\n",
    "                     'n_repeated':[1000],\n",
    "                     'trial_type': [Int2Trial],\n",
    "                     'n_features': [1],\n",
    "                     'external_noise_std': [100]}\n",
    "analyser_params = {'internal_noise_extractor':[DoublePass], \n",
    "                  'model_file': ['model_11_04_2024.csv'], \n",
    "                  'rebuild_model': [False],\n",
    "                   'internal_noise_range':[np.arange(0,5.1,0.1)],\n",
    "                   'criteria_range':[np.arange(-5,5,0.1)]\n",
    "                  }\n",
    "\n",
    "\n",
    "sim = Sim(DoublePassExperiment, experiment_params, \n",
    "          LinearObserver, observer_params, \n",
    "          InternalNoiseValue, analyser_params)\n",
    "sim_df = sim.run_all(n_runs=1)\n",
    "\n"
   ]
  },
  {
   "cell_type": "code",
   "execution_count": 177,
   "id": "0264e72a",
   "metadata": {
    "ExecuteTime": {
     "end_time": "2024-04-11T04:11:28.822698Z",
     "start_time": "2024-04-11T04:11:28.763833Z"
    }
   },
   "outputs": [
    {
     "data": {
      "text/html": [
       "<div>\n",
       "<style scoped>\n",
       "    .dataframe tbody tr th:only-of-type {\n",
       "        vertical-align: middle;\n",
       "    }\n",
       "\n",
       "    .dataframe tbody tr th {\n",
       "        vertical-align: top;\n",
       "    }\n",
       "\n",
       "    .dataframe thead th {\n",
       "        text-align: right;\n",
       "    }\n",
       "</style>\n",
       "<table border=\"1\" class=\"dataframe\">\n",
       "  <thead>\n",
       "    <tr style=\"text-align: right;\">\n",
       "      <th></th>\n",
       "      <th>n_trials</th>\n",
       "      <th>n_repeated</th>\n",
       "      <th>trial_type</th>\n",
       "      <th>n_features</th>\n",
       "      <th>external_noise_std</th>\n",
       "      <th>kernel</th>\n",
       "      <th>internal_noise_std</th>\n",
       "      <th>criteria</th>\n",
       "      <th>internal_noise_extractor</th>\n",
       "      <th>model_file</th>\n",
       "      <th>run</th>\n",
       "      <th>metric</th>\n",
       "    </tr>\n",
       "  </thead>\n",
       "  <tbody>\n",
       "    <tr>\n",
       "      <th>0</th>\n",
       "      <td>1000</td>\n",
       "      <td>1000</td>\n",
       "      <td>&lt;class 'palin.simulation.trial.Int2Trial'&gt;</td>\n",
       "      <td>1</td>\n",
       "      <td>100</td>\n",
       "      <td>[1]</td>\n",
       "      <td>0</td>\n",
       "      <td>-1</td>\n",
       "      <td>&lt;class 'palin.internal_noise.double_pass.Doubl...</td>\n",
       "      <td>model.csv</td>\n",
       "      <td>0</td>\n",
       "      <td>0.0</td>\n",
       "    </tr>\n",
       "    <tr>\n",
       "      <th>1</th>\n",
       "      <td>1000</td>\n",
       "      <td>1000</td>\n",
       "      <td>&lt;class 'palin.simulation.trial.Int2Trial'&gt;</td>\n",
       "      <td>1</td>\n",
       "      <td>100</td>\n",
       "      <td>[1]</td>\n",
       "      <td>0</td>\n",
       "      <td>1</td>\n",
       "      <td>&lt;class 'palin.internal_noise.double_pass.Doubl...</td>\n",
       "      <td>model.csv</td>\n",
       "      <td>0</td>\n",
       "      <td>0.0</td>\n",
       "    </tr>\n",
       "    <tr>\n",
       "      <th>2</th>\n",
       "      <td>1000</td>\n",
       "      <td>1000</td>\n",
       "      <td>&lt;class 'palin.simulation.trial.Int2Trial'&gt;</td>\n",
       "      <td>1</td>\n",
       "      <td>100</td>\n",
       "      <td>[1]</td>\n",
       "      <td>1</td>\n",
       "      <td>-1</td>\n",
       "      <td>&lt;class 'palin.internal_noise.double_pass.Doubl...</td>\n",
       "      <td>model.csv</td>\n",
       "      <td>0</td>\n",
       "      <td>1.0</td>\n",
       "    </tr>\n",
       "    <tr>\n",
       "      <th>3</th>\n",
       "      <td>1000</td>\n",
       "      <td>1000</td>\n",
       "      <td>&lt;class 'palin.simulation.trial.Int2Trial'&gt;</td>\n",
       "      <td>1</td>\n",
       "      <td>100</td>\n",
       "      <td>[1]</td>\n",
       "      <td>1</td>\n",
       "      <td>1</td>\n",
       "      <td>&lt;class 'palin.internal_noise.double_pass.Doubl...</td>\n",
       "      <td>model.csv</td>\n",
       "      <td>0</td>\n",
       "      <td>0.7</td>\n",
       "    </tr>\n",
       "  </tbody>\n",
       "</table>\n",
       "</div>"
      ],
      "text/plain": [
       "   n_trials  n_repeated                                  trial_type  \\\n",
       "0      1000        1000  <class 'palin.simulation.trial.Int2Trial'>   \n",
       "1      1000        1000  <class 'palin.simulation.trial.Int2Trial'>   \n",
       "2      1000        1000  <class 'palin.simulation.trial.Int2Trial'>   \n",
       "3      1000        1000  <class 'palin.simulation.trial.Int2Trial'>   \n",
       "\n",
       "   n_features  external_noise_std kernel  internal_noise_std  criteria  \\\n",
       "0           1                 100    [1]                   0        -1   \n",
       "1           1                 100    [1]                   0         1   \n",
       "2           1                 100    [1]                   1        -1   \n",
       "3           1                 100    [1]                   1         1   \n",
       "\n",
       "                            internal_noise_extractor model_file  run  metric  \n",
       "0  <class 'palin.internal_noise.double_pass.Doubl...  model.csv    0     0.0  \n",
       "1  <class 'palin.internal_noise.double_pass.Doubl...  model.csv    0     0.0  \n",
       "2  <class 'palin.internal_noise.double_pass.Doubl...  model.csv    0     1.0  \n",
       "3  <class 'palin.internal_noise.double_pass.Doubl...  model.csv    0     0.7  "
      ]
     },
     "execution_count": 177,
     "metadata": {},
     "output_type": "execute_result"
    }
   ],
   "source": [
    "sim_df"
   ]
  },
  {
   "cell_type": "markdown",
   "id": "2629230e",
   "metadata": {},
   "source": [
    "## Simulate with kernels"
   ]
  },
  {
   "cell_type": "markdown",
   "id": "d808e31a",
   "metadata": {},
   "source": [
    "Single run"
   ]
  },
  {
   "cell_type": "code",
   "execution_count": 104,
   "id": "52fc9460",
   "metadata": {
    "ExecuteTime": {
     "end_time": "2024-04-10T12:41:07.781836Z",
     "start_time": "2024-04-10T12:41:07.728949Z"
    }
   },
   "outputs": [
    {
     "data": {
      "text/plain": [
       "0.948432263142621"
      ]
     },
     "execution_count": 104,
     "metadata": {},
     "output_type": "execute_result"
    }
   ],
   "source": [
    "# single run: \n",
    "exp = Exp(n_trials = 100,\n",
    "          trial_type = Int2Trial, \n",
    "          n_features = 5, \n",
    "          external_noise_std = 100)\n",
    "obs = Obs.with_random_kernel(n_features = 5, \n",
    "                            internal_noise_std = 1, \n",
    "                            criteria = 0)\n",
    "responses = obs.respond_to_experiment(exp)\n",
    "ka = Analyser(ClassificationImage)\n",
    "ka.analyse(exp, obs, responses)"
   ]
  },
  {
   "cell_type": "code",
   "execution_count": 15,
   "id": "43c24287",
   "metadata": {
    "ExecuteTime": {
     "end_time": "2024-04-10T04:42:23.899935Z",
     "start_time": "2024-04-10T04:42:23.752329Z"
    },
    "scrolled": false
   },
   "outputs": [
    {
     "name": "stdout",
     "output_type": "stream",
     "text": [
      "generated 8 runs\n",
      "{'n_trials': 100, 'trial_type': <class 'palin.simulation.trial.Int2Trial'>, 'n_features': 2, 'external_noise_std': 100, 'kernel': 'random', 'internal_noise_std': 1, 'criteria': 0, 'kernel_extractor': <class 'palin.kernels.classification_images.ClassificationImage'>, 'distance': 'CORR'}\n",
      ".\n",
      "{'n_trials': 100, 'trial_type': <class 'palin.simulation.trial.Int2Trial'>, 'n_features': 3, 'external_noise_std': 100, 'kernel': 'random', 'internal_noise_std': 1, 'criteria': 0, 'kernel_extractor': <class 'palin.kernels.classification_images.ClassificationImage'>, 'distance': 'CORR'}\n",
      ".\n",
      "{'n_trials': 100, 'trial_type': <class 'palin.simulation.trial.Int2Trial'>, 'n_features': 4, 'external_noise_std': 100, 'kernel': 'random', 'internal_noise_std': 1, 'criteria': 0, 'kernel_extractor': <class 'palin.kernels.classification_images.ClassificationImage'>, 'distance': 'CORR'}\n",
      ".\n",
      "{'n_trials': 100, 'trial_type': <class 'palin.simulation.trial.Int2Trial'>, 'n_features': 5, 'external_noise_std': 100, 'kernel': 'random', 'internal_noise_std': 1, 'criteria': 0, 'kernel_extractor': <class 'palin.kernels.classification_images.ClassificationImage'>, 'distance': 'CORR'}\n",
      ".\n",
      "{'n_trials': 100, 'trial_type': <class 'palin.simulation.trial.Int2Trial'>, 'n_features': 6, 'external_noise_std': 100, 'kernel': 'random', 'internal_noise_std': 1, 'criteria': 0, 'kernel_extractor': <class 'palin.kernels.classification_images.ClassificationImage'>, 'distance': 'CORR'}\n",
      ".\n",
      "{'n_trials': 100, 'trial_type': <class 'palin.simulation.trial.Int2Trial'>, 'n_features': 7, 'external_noise_std': 100, 'kernel': 'random', 'internal_noise_std': 1, 'criteria': 0, 'kernel_extractor': <class 'palin.kernels.classification_images.ClassificationImage'>, 'distance': 'CORR'}\n",
      ".\n",
      "{'n_trials': 100, 'trial_type': <class 'palin.simulation.trial.Int2Trial'>, 'n_features': 8, 'external_noise_std': 100, 'kernel': 'random', 'internal_noise_std': 1, 'criteria': 0, 'kernel_extractor': <class 'palin.kernels.classification_images.ClassificationImage'>, 'distance': 'CORR'}\n",
      ".\n",
      "{'n_trials': 100, 'trial_type': <class 'palin.simulation.trial.Int2Trial'>, 'n_features': 9, 'external_noise_std': 100, 'kernel': 'random', 'internal_noise_std': 1, 'criteria': 0, 'kernel_extractor': <class 'palin.kernels.classification_images.ClassificationImage'>, 'distance': 'CORR'}\n",
      ".\n"
     ]
    }
   ],
   "source": [
    "# obs = Obs.with_random_kernel(n_features=5, internal_noise_std=0, criteria=0)\n",
    "\n",
    "observer_params = {'kernel':['random'],\n",
    "                   'internal_noise_std':[1], \n",
    "                  'criteria':[0]}\n",
    "experiment_params = {'n_trials':[100],#np.arange(1,1000,100),\n",
    "                     'trial_type': [Int2Trial],\n",
    "                     'n_features': np.arange(2,10,1),\n",
    "                     'external_noise_std': [100]}\n",
    "analyser_params = {'kernel_extractor':[ClassificationImage], \n",
    "                  'distance':['CORR']}\n",
    "\n",
    "\n",
    "sim = Sim(Exp, experiment_params, \n",
    "          Obs, observer_params, \n",
    "          Analyser, analyser_params)\n",
    "sim_df = sim.run_all(n_samples=1)\n",
    "\n",
    "\n",
    "\n",
    "\n"
   ]
  },
  {
   "cell_type": "code",
   "execution_count": 147,
   "id": "918f61b8",
   "metadata": {
    "ExecuteTime": {
     "end_time": "2024-04-10T15:36:24.243659Z",
     "start_time": "2024-04-10T15:36:24.180798Z"
    }
   },
   "outputs": [
    {
     "data": {
      "text/html": [
       "<div>\n",
       "<style scoped>\n",
       "    .dataframe tbody tr th:only-of-type {\n",
       "        vertical-align: middle;\n",
       "    }\n",
       "\n",
       "    .dataframe tbody tr th {\n",
       "        vertical-align: top;\n",
       "    }\n",
       "\n",
       "    .dataframe thead th {\n",
       "        text-align: right;\n",
       "    }\n",
       "</style>\n",
       "<table border=\"1\" class=\"dataframe\">\n",
       "  <thead>\n",
       "    <tr style=\"text-align: right;\">\n",
       "      <th></th>\n",
       "      <th>n_trials</th>\n",
       "      <th>n_repeated</th>\n",
       "      <th>trial_type</th>\n",
       "      <th>n_features</th>\n",
       "      <th>external_noise_std</th>\n",
       "      <th>kernel</th>\n",
       "      <th>internal_noise_std</th>\n",
       "      <th>criteria</th>\n",
       "      <th>sample</th>\n",
       "      <th>metric</th>\n",
       "      <th>dist</th>\n",
       "      <th>prob_agree</th>\n",
       "      <th>prob_first</th>\n",
       "    </tr>\n",
       "  </thead>\n",
       "  <tbody>\n",
       "    <tr>\n",
       "      <th>0</th>\n",
       "      <td>100</td>\n",
       "      <td>50</td>\n",
       "      <td>&lt;class 'palin.simulation.trial.Int2Trial'&gt;</td>\n",
       "      <td>1</td>\n",
       "      <td>100</td>\n",
       "      <td>[1]</td>\n",
       "      <td>0.0</td>\n",
       "      <td>-5</td>\n",
       "      <td>0</td>\n",
       "      <td>(1.0, 1.0)</td>\n",
       "      <td>0.2900</td>\n",
       "      <td>0.8</td>\n",
       "      <td>0.5</td>\n",
       "    </tr>\n",
       "    <tr>\n",
       "      <th>1</th>\n",
       "      <td>100</td>\n",
       "      <td>50</td>\n",
       "      <td>&lt;class 'palin.simulation.trial.Int2Trial'&gt;</td>\n",
       "      <td>1</td>\n",
       "      <td>100</td>\n",
       "      <td>[1]</td>\n",
       "      <td>0.0</td>\n",
       "      <td>-4</td>\n",
       "      <td>0</td>\n",
       "      <td>(1.0, 1.0)</td>\n",
       "      <td>0.2900</td>\n",
       "      <td>0.8</td>\n",
       "      <td>0.5</td>\n",
       "    </tr>\n",
       "    <tr>\n",
       "      <th>2</th>\n",
       "      <td>100</td>\n",
       "      <td>50</td>\n",
       "      <td>&lt;class 'palin.simulation.trial.Int2Trial'&gt;</td>\n",
       "      <td>1</td>\n",
       "      <td>100</td>\n",
       "      <td>[1]</td>\n",
       "      <td>0.0</td>\n",
       "      <td>-3</td>\n",
       "      <td>0</td>\n",
       "      <td>(1.0, 1.0)</td>\n",
       "      <td>0.2900</td>\n",
       "      <td>0.8</td>\n",
       "      <td>0.5</td>\n",
       "    </tr>\n",
       "    <tr>\n",
       "      <th>3</th>\n",
       "      <td>100</td>\n",
       "      <td>50</td>\n",
       "      <td>&lt;class 'palin.simulation.trial.Int2Trial'&gt;</td>\n",
       "      <td>1</td>\n",
       "      <td>100</td>\n",
       "      <td>[1]</td>\n",
       "      <td>0.0</td>\n",
       "      <td>-2</td>\n",
       "      <td>0</td>\n",
       "      <td>(1.0, 0.88)</td>\n",
       "      <td>0.1844</td>\n",
       "      <td>0.8</td>\n",
       "      <td>0.5</td>\n",
       "    </tr>\n",
       "    <tr>\n",
       "      <th>4</th>\n",
       "      <td>100</td>\n",
       "      <td>50</td>\n",
       "      <td>&lt;class 'palin.simulation.trial.Int2Trial'&gt;</td>\n",
       "      <td>1</td>\n",
       "      <td>100</td>\n",
       "      <td>[1]</td>\n",
       "      <td>0.0</td>\n",
       "      <td>-1</td>\n",
       "      <td>0</td>\n",
       "      <td>(1.0, 0.68)</td>\n",
       "      <td>0.0724</td>\n",
       "      <td>0.8</td>\n",
       "      <td>0.5</td>\n",
       "    </tr>\n",
       "    <tr>\n",
       "      <th>...</th>\n",
       "      <td>...</td>\n",
       "      <td>...</td>\n",
       "      <td>...</td>\n",
       "      <td>...</td>\n",
       "      <td>...</td>\n",
       "      <td>...</td>\n",
       "      <td>...</td>\n",
       "      <td>...</td>\n",
       "      <td>...</td>\n",
       "      <td>...</td>\n",
       "      <td>...</td>\n",
       "      <td>...</td>\n",
       "      <td>...</td>\n",
       "    </tr>\n",
       "    <tr>\n",
       "      <th>495</th>\n",
       "      <td>100</td>\n",
       "      <td>50</td>\n",
       "      <td>&lt;class 'palin.simulation.trial.Int2Trial'&gt;</td>\n",
       "      <td>1</td>\n",
       "      <td>100</td>\n",
       "      <td>[1]</td>\n",
       "      <td>4.9</td>\n",
       "      <td>0</td>\n",
       "      <td>0</td>\n",
       "      <td>(0.56, 0.5)</td>\n",
       "      <td>0.0576</td>\n",
       "      <td>0.8</td>\n",
       "      <td>0.5</td>\n",
       "    </tr>\n",
       "    <tr>\n",
       "      <th>496</th>\n",
       "      <td>100</td>\n",
       "      <td>50</td>\n",
       "      <td>&lt;class 'palin.simulation.trial.Int2Trial'&gt;</td>\n",
       "      <td>1</td>\n",
       "      <td>100</td>\n",
       "      <td>[1]</td>\n",
       "      <td>4.9</td>\n",
       "      <td>1</td>\n",
       "      <td>0</td>\n",
       "      <td>(0.56, 0.34)</td>\n",
       "      <td>0.0832</td>\n",
       "      <td>0.8</td>\n",
       "      <td>0.5</td>\n",
       "    </tr>\n",
       "    <tr>\n",
       "      <th>497</th>\n",
       "      <td>100</td>\n",
       "      <td>50</td>\n",
       "      <td>&lt;class 'palin.simulation.trial.Int2Trial'&gt;</td>\n",
       "      <td>1</td>\n",
       "      <td>100</td>\n",
       "      <td>[1]</td>\n",
       "      <td>4.9</td>\n",
       "      <td>2</td>\n",
       "      <td>0</td>\n",
       "      <td>(0.54, 0.41)</td>\n",
       "      <td>0.0757</td>\n",
       "      <td>0.8</td>\n",
       "      <td>0.5</td>\n",
       "    </tr>\n",
       "    <tr>\n",
       "      <th>498</th>\n",
       "      <td>100</td>\n",
       "      <td>50</td>\n",
       "      <td>&lt;class 'palin.simulation.trial.Int2Trial'&gt;</td>\n",
       "      <td>1</td>\n",
       "      <td>100</td>\n",
       "      <td>[1]</td>\n",
       "      <td>4.9</td>\n",
       "      <td>3</td>\n",
       "      <td>0</td>\n",
       "      <td>(0.62, 0.23)</td>\n",
       "      <td>0.1053</td>\n",
       "      <td>0.8</td>\n",
       "      <td>0.5</td>\n",
       "    </tr>\n",
       "    <tr>\n",
       "      <th>499</th>\n",
       "      <td>100</td>\n",
       "      <td>50</td>\n",
       "      <td>&lt;class 'palin.simulation.trial.Int2Trial'&gt;</td>\n",
       "      <td>1</td>\n",
       "      <td>100</td>\n",
       "      <td>[1]</td>\n",
       "      <td>4.9</td>\n",
       "      <td>4</td>\n",
       "      <td>0</td>\n",
       "      <td>(0.72, 0.16)</td>\n",
       "      <td>0.1220</td>\n",
       "      <td>0.8</td>\n",
       "      <td>0.5</td>\n",
       "    </tr>\n",
       "  </tbody>\n",
       "</table>\n",
       "<p>500 rows × 13 columns</p>\n",
       "</div>"
      ],
      "text/plain": [
       "     n_trials  n_repeated                                  trial_type  \\\n",
       "0         100          50  <class 'palin.simulation.trial.Int2Trial'>   \n",
       "1         100          50  <class 'palin.simulation.trial.Int2Trial'>   \n",
       "2         100          50  <class 'palin.simulation.trial.Int2Trial'>   \n",
       "3         100          50  <class 'palin.simulation.trial.Int2Trial'>   \n",
       "4         100          50  <class 'palin.simulation.trial.Int2Trial'>   \n",
       "..        ...         ...                                         ...   \n",
       "495       100          50  <class 'palin.simulation.trial.Int2Trial'>   \n",
       "496       100          50  <class 'palin.simulation.trial.Int2Trial'>   \n",
       "497       100          50  <class 'palin.simulation.trial.Int2Trial'>   \n",
       "498       100          50  <class 'palin.simulation.trial.Int2Trial'>   \n",
       "499       100          50  <class 'palin.simulation.trial.Int2Trial'>   \n",
       "\n",
       "     n_features  external_noise_std kernel  internal_noise_std  criteria  \\\n",
       "0             1                 100    [1]                 0.0        -5   \n",
       "1             1                 100    [1]                 0.0        -4   \n",
       "2             1                 100    [1]                 0.0        -3   \n",
       "3             1                 100    [1]                 0.0        -2   \n",
       "4             1                 100    [1]                 0.0        -1   \n",
       "..          ...                 ...    ...                 ...       ...   \n",
       "495           1                 100    [1]                 4.9         0   \n",
       "496           1                 100    [1]                 4.9         1   \n",
       "497           1                 100    [1]                 4.9         2   \n",
       "498           1                 100    [1]                 4.9         3   \n",
       "499           1                 100    [1]                 4.9         4   \n",
       "\n",
       "     sample        metric    dist  prob_agree  prob_first  \n",
       "0         0    (1.0, 1.0)  0.2900         0.8         0.5  \n",
       "1         0    (1.0, 1.0)  0.2900         0.8         0.5  \n",
       "2         0    (1.0, 1.0)  0.2900         0.8         0.5  \n",
       "3         0   (1.0, 0.88)  0.1844         0.8         0.5  \n",
       "4         0   (1.0, 0.68)  0.0724         0.8         0.5  \n",
       "..      ...           ...     ...         ...         ...  \n",
       "495       0   (0.56, 0.5)  0.0576         0.8         0.5  \n",
       "496       0  (0.56, 0.34)  0.0832         0.8         0.5  \n",
       "497       0  (0.54, 0.41)  0.0757         0.8         0.5  \n",
       "498       0  (0.62, 0.23)  0.1053         0.8         0.5  \n",
       "499       0  (0.72, 0.16)  0.1220         0.8         0.5  \n",
       "\n",
       "[500 rows x 13 columns]"
      ]
     },
     "execution_count": 147,
     "metadata": {},
     "output_type": "execute_result"
    }
   ],
   "source": [
    "sim_df"
   ]
  },
  {
   "cell_type": "code",
   "execution_count": 17,
   "id": "5f7ad1b1",
   "metadata": {
    "ExecuteTime": {
     "end_time": "2024-04-10T04:42:50.935778Z",
     "start_time": "2024-04-10T04:42:50.744219Z"
    }
   },
   "outputs": [
    {
     "data": {
      "text/plain": [
       "<Axes: xlabel='n_features', ylabel='metric'>"
      ]
     },
     "execution_count": 17,
     "metadata": {},
     "output_type": "execute_result"
    },
    {
     "data": {
      "image/png": "[encoded data removed]",
      "text/plain": [
       "<Figure size 640x480 with 1 Axes>"
      ]
     },
     "metadata": {},
     "output_type": "display_data"
    }
   ],
   "source": [
    "sns.lineplot(data=sim_df, \n",
    "             x='n_features',\n",
    "             y='metric')#, hue='n_features')"
   ]
  },
  {
   "cell_type": "code",
   "execution_count": 168,
   "id": "ea12e662",
   "metadata": {
    "ExecuteTime": {
     "end_time": "2024-04-11T04:08:49.331441Z",
     "start_time": "2024-04-11T04:08:49.277585Z"
    }
   },
   "outputs": [
    {
     "data": {
      "text/plain": [
       "['subj',\n",
       " 'trial',\n",
       " 'block',\n",
       " 'date',\n",
       " 'stim',\n",
       " 'stim_order',\n",
       " 'response',\n",
       " 'rt',\n",
       " 'age',\n",
       " 'sex',\n",
       " 'param_index',\n",
       " 'segment_time',\n",
       " 'pitch']"
      ]
     },
     "execution_count": 168,
     "metadata": {},
     "output_type": "execute_result"
    }
   ],
   "source": [
    "list(data_df)"
   ]
  },
  {
   "cell_type": "code",
   "execution_count": 174,
   "id": "be5177b7",
   "metadata": {
    "ExecuteTime": {
     "end_time": "2024-04-11T04:10:11.894810Z",
     "start_time": "2024-04-11T04:10:11.830804Z"
    }
   },
   "outputs": [],
   "source": [
    "data_df = pd.read_csv('../data/pitch_interrogation/results_subj_20111971.csv')\n",
    "\n",
    "\n",
    "set_df = data_df.groupby('trial').agg({'pitch': lambda group: tuple(group)}).reset_index()\n",
    "\n",
    "# count how many trials have each unique pair of stimuli\n",
    "pass_count_df = set_df.groupby('pitch').agg({'trial': ['nunique','first','last']})\n",
    "pass_count_df.columns = [\"_\".join(x) for x in pass_count_df.columns]\n",
    "\n",
    "\n",
    "\n"
   ]
  },
  {
   "cell_type": "code",
   "execution_count": 173,
   "id": "e657a304",
   "metadata": {
    "ExecuteTime": {
     "end_time": "2024-04-11T04:09:56.002651Z",
     "start_time": "2024-04-11T04:09:55.949793Z"
    }
   },
   "outputs": [
    {
     "data": {
      "text/plain": [
       "['trial_nunique', 'trial_first', 'trial_last']"
      ]
     },
     "execution_count": 173,
     "metadata": {},
     "output_type": "execute_result"
    }
   ],
   "source": [
    "[\"_\".join(x) for x in pass_count_df.columns]\n"
   ]
  },
  {
   "cell_type": "code",
   "execution_count": 175,
   "id": "c4826227",
   "metadata": {
    "ExecuteTime": {
     "end_time": "2024-04-11T04:10:14.250903Z",
     "start_time": "2024-04-11T04:10:14.190027Z"
    }
   },
   "outputs": [
    {
     "data": {
      "text/html": [
       "<div>\n",
       "<style scoped>\n",
       "    .dataframe tbody tr th:only-of-type {\n",
       "        vertical-align: middle;\n",
       "    }\n",
       "\n",
       "    .dataframe tbody tr th {\n",
       "        vertical-align: top;\n",
       "    }\n",
       "\n",
       "    .dataframe thead th {\n",
       "        text-align: right;\n",
       "    }\n",
       "</style>\n",
       "<table border=\"1\" class=\"dataframe\">\n",
       "  <thead>\n",
       "    <tr style=\"text-align: right;\">\n",
       "      <th></th>\n",
       "      <th>trial_nunique</th>\n",
       "      <th>trial_first</th>\n",
       "      <th>trial_last</th>\n",
       "    </tr>\n",
       "    <tr>\n",
       "      <th>pitch</th>\n",
       "      <th></th>\n",
       "      <th></th>\n",
       "      <th></th>\n",
       "    </tr>\n",
       "  </thead>\n",
       "  <tbody>\n",
       "    <tr>\n",
       "      <th>(-140.284917, 56.043903, -2.142699, -41.999388, -69.522618, 29.697532, 40.565741, 23.45052, 102.584681, 38.2243, -16.427695, 7.421137, -9.369055, -89.176758)</th>\n",
       "      <td>1</td>\n",
       "      <td>18</td>\n",
       "      <td>18</td>\n",
       "    </tr>\n",
       "    <tr>\n",
       "      <th>(-135.344658, -76.172858, -130.999312, -146.306144, -78.266251, 30.254136, -114.179281, 102.170357, 20.715456, 81.972821, -125.018297, 103.374214, -81.704677, 85.109238)</th>\n",
       "      <td>2</td>\n",
       "      <td>82</td>\n",
       "      <td>132</td>\n",
       "    </tr>\n",
       "    <tr>\n",
       "      <th>(-133.8014, 34.189717, -145.714669, 1.717896, 99.036025, 56.473042, 113.578937, 126.187147, 44.969184, -108.017243, 6.480803, 89.811831, 60.034007, 63.317816)</th>\n",
       "      <td>2</td>\n",
       "      <td>69</td>\n",
       "      <td>119</td>\n",
       "    </tr>\n",
       "    <tr>\n",
       "      <th>(-133.486308, -51.704384, 123.73441, -122.063627, 105.373754, 42.489978, 65.5363, -67.009894, -124.385437, -32.338754, -145.840775, -6.786611, 89.278278, -47.823672)</th>\n",
       "      <td>2</td>\n",
       "      <td>72</td>\n",
       "      <td>122</td>\n",
       "    </tr>\n",
       "    <tr>\n",
       "      <th>(-132.910898, -40.348113, -144.469254, -148.365603, 29.209812, -68.789467, 116.539457, 102.52713, 114.03702, -45.723055, -109.210749, -29.266312, -77.798514, -133.179439)</th>\n",
       "      <td>2</td>\n",
       "      <td>96</td>\n",
       "      <td>146</td>\n",
       "    </tr>\n",
       "    <tr>\n",
       "      <th>...</th>\n",
       "      <td>...</td>\n",
       "      <td>...</td>\n",
       "      <td>...</td>\n",
       "    </tr>\n",
       "    <tr>\n",
       "      <th>(139.821339, -90.088416, -144.376143, -83.117215, -15.266959, -78.645111, 18.56671, 123.541183, -79.641893, -129.036775, -12.372422, 47.099802, 133.796504, 125.051187)</th>\n",
       "      <td>1</td>\n",
       "      <td>31</td>\n",
       "      <td>31</td>\n",
       "    </tr>\n",
       "    <tr>\n",
       "      <th>(141.243943, -34.322435, 10.018864, -24.066951, 45.502655, 107.276086, 58.11038, 46.973159, -61.71182, 14.836428, 30.862549, 28.459321, 2.114815, 86.651936)</th>\n",
       "      <td>1</td>\n",
       "      <td>11</td>\n",
       "      <td>11</td>\n",
       "    </tr>\n",
       "    <tr>\n",
       "      <th>(143.598511, 23.645136, -118.740497, -109.046436, 66.022521, -13.059175, 22.70066, 69.316576, -9.39536, -16.21002, 5.282415, -92.031474, -71.382142, -144.168558)</th>\n",
       "      <td>2</td>\n",
       "      <td>80</td>\n",
       "      <td>130</td>\n",
       "    </tr>\n",
       "    <tr>\n",
       "      <th>(144.813706, 36.420023, -15.581887, -108.080315, 44.82704, -140.857646, -19.601185, -95.161618, -119.152564, 18.051976, -26.870716, 87.472746, -56.607347, 148.066508)</th>\n",
       "      <td>1</td>\n",
       "      <td>33</td>\n",
       "      <td>33</td>\n",
       "    </tr>\n",
       "    <tr>\n",
       "      <th>(147.824484, -35.75356, -17.671801, 145.037411, 17.430899, -34.827913, -148.430397, 20.473057, -103.427341, -58.67029, -88.181786, -145.892431, -121.19713, 3.215116)</th>\n",
       "      <td>1</td>\n",
       "      <td>26</td>\n",
       "      <td>26</td>\n",
       "    </tr>\n",
       "  </tbody>\n",
       "</table>\n",
       "<p>100 rows × 3 columns</p>\n",
       "</div>"
      ],
      "text/plain": [
       "                                                    trial_nunique  \\\n",
       "pitch                                                               \n",
       "(-140.284917, 56.043903, -2.142699, -41.999388,...              1   \n",
       "(-135.344658, -76.172858, -130.999312, -146.306...              2   \n",
       "(-133.8014, 34.189717, -145.714669, 1.717896, 9...              2   \n",
       "(-133.486308, -51.704384, 123.73441, -122.06362...              2   \n",
       "(-132.910898, -40.348113, -144.469254, -148.365...              2   \n",
       "...                                                           ...   \n",
       "(139.821339, -90.088416, -144.376143, -83.11721...              1   \n",
       "(141.243943, -34.322435, 10.018864, -24.066951,...              1   \n",
       "(143.598511, 23.645136, -118.740497, -109.04643...              2   \n",
       "(144.813706, 36.420023, -15.581887, -108.080315...              1   \n",
       "(147.824484, -35.75356, -17.671801, 145.037411,...              1   \n",
       "\n",
       "                                                    trial_first  trial_last  \n",
       "pitch                                                                        \n",
       "(-140.284917, 56.043903, -2.142699, -41.999388,...           18          18  \n",
       "(-135.344658, -76.172858, -130.999312, -146.306...           82         132  \n",
       "(-133.8014, 34.189717, -145.714669, 1.717896, 9...           69         119  \n",
       "(-133.486308, -51.704384, 123.73441, -122.06362...           72         122  \n",
       "(-132.910898, -40.348113, -144.469254, -148.365...           96         146  \n",
       "...                                                         ...         ...  \n",
       "(139.821339, -90.088416, -144.376143, -83.11721...           31          31  \n",
       "(141.243943, -34.322435, 10.018864, -24.066951,...           11          11  \n",
       "(143.598511, 23.645136, -118.740497, -109.04643...           80         130  \n",
       "(144.813706, 36.420023, -15.581887, -108.080315...           33          33  \n",
       "(147.824484, -35.75356, -17.671801, 145.037411,...           26          26  \n",
       "\n",
       "[100 rows x 3 columns]"
      ]
     },
     "execution_count": 175,
     "metadata": {},
     "output_type": "execute_result"
    }
   ],
   "source": [
    "pass_count_df"
   ]
  },
  {
   "cell_type": "code",
   "execution_count": null,
   "id": "cca19c67",
   "metadata": {},
   "outputs": [],
   "source": []
  }
 ],
 "metadata": {
  "kernelspec": {
   "display_name": "Python 3 (ipykernel)",
   "language": "python",
   "name": "python3"
  },
  "language_info": {
   "codemirror_mode": {
    "name": "ipython",
    "version": 3
   },
   "file_extension": ".py",
   "mimetype": "text/x-python",
   "name": "python",
   "nbconvert_exporter": "python",
   "pygments_lexer": "ipython3",
   "version": "3.8.10"
  },
  "toc": {
   "base_numbering": 1,
   "nav_menu": {},
   "number_sections": true,
   "sideBar": true,
   "skip_h1_title": true,
   "title_cell": "Table of Contents",
   "title_sidebar": "Contents",
   "toc_cell": false,
   "toc_position": {},
   "toc_section_display": true,
   "toc_window_display": true
  }
 },
 "nbformat": 4,
 "nbformat_minor": 5
}
