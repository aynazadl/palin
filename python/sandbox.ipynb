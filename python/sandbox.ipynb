{
 "cells": [
  {
   "cell_type": "code",
   "execution_count": 94,
   "id": "9f82673e",
   "metadata": {
    "ExecuteTime": {
     "end_time": "2024-04-09T18:19:01.978718Z",
     "start_time": "2024-04-09T18:19:01.941618Z"
    }
   },
   "outputs": [],
   "source": [
    "%load_ext autoreload\n",
    "%autoreload 2"
   ]
  },
  {
   "cell_type": "code",
   "execution_count": 113,
   "id": "8fa531a7",
   "metadata": {
    "ExecuteTime": {
     "end_time": "2024-04-09T18:34:55.185980Z",
     "start_time": "2024-04-09T18:34:55.140103Z"
    }
   },
   "outputs": [],
   "source": [
    "import os, sys\n",
    "import numpy as np\n",
    "import pandas as pd\n",
    "import seaborn as sns"
   ]
  },
  {
   "cell_type": "code",
   "execution_count": 3,
   "id": "31fd8e73",
   "metadata": {
    "ExecuteTime": {
     "end_time": "2024-04-09T16:44:59.134464Z",
     "start_time": "2024-04-09T16:44:58.278104Z"
    }
   },
   "outputs": [],
   "source": [
    "sys.path.insert(0, os.path.abspath('../palin/python'))"
   ]
  },
  {
   "cell_type": "code",
   "execution_count": 128,
   "id": "b2b99fd0",
   "metadata": {
    "ExecuteTime": {
     "end_time": "2024-04-09T18:43:47.753878Z",
     "start_time": "2024-04-09T18:43:47.708766Z"
    }
   },
   "outputs": [],
   "source": [
    "from palin.simulation.simple_experiment import SimpleExperiment as Exp\n",
    "from palin.simulation.trial import Int2Trial, Int1Trial \n",
    "from palin.simulation.linear_observer import LinearObserver as Obs\n",
    "from palin.simulation.kernel_analyser import KernelAnalyser as Analyser\n",
    "from palin.kernels.classification_images import ClassificationImage\n",
    "from palin.simulation.simulation import Simulation as Sim"
   ]
  },
  {
   "cell_type": "code",
   "execution_count": 14,
   "id": "22041899",
   "metadata": {
    "ExecuteTime": {
     "end_time": "2024-04-09T16:49:31.299979Z",
     "start_time": "2024-04-09T16:49:31.293995Z"
    }
   },
   "outputs": [],
   "source": [
    "# single run: \n",
    "exp = Exp(n_trials = 100,\n",
    "          trial_type = Int2Trial, \n",
    "          n_features = 5, \n",
    "          external_noise_std = 100)\n",
    "obs = Obs.with_random_kernel(n_features = 5, \n",
    "                            internal_noise_std = 1, \n",
    "                            criteria = 0)\n",
    "responses = obs.respond_to_experiment(exp)\n",
    "ka = Analyser(ClassificationImage)\n",
    "ka.analyse(exp, obs, responses)"
   ]
  },
  {
   "cell_type": "code",
   "execution_count": null,
   "id": "386b6eb7",
   "metadata": {
    "ExecuteTime": {
     "start_time": "2024-04-09T19:20:58.342Z"
    },
    "scrolled": false
   },
   "outputs": [
    {
     "name": "stdout",
     "output_type": "stream",
     "text": [
      "generated 100 runs\n",
      "{'n_trials': 1, 'trial_type': <class 'palin.simulation.trial.Int2Trial'>, 'n_features': 2, 'external_noise_std': 100, 'kernel': 'random', 'internal_noise_std': 1, 'criteria': 0, 'kernel_analyser': <class 'palin.kernels.classification_images.ClassificationImage'>}\n",
      "....................................................................................................\n",
      "{'n_trials': 1, 'trial_type': <class 'palin.simulation.trial.Int2Trial'>, 'n_features': 12, 'external_noise_std': 100, 'kernel': 'random', 'internal_noise_std': 1, 'criteria': 0, 'kernel_analyser': <class 'palin.kernels.classification_images.ClassificationImage'>}\n",
      "....................................................................................................\n",
      "{'n_trials': 1, 'trial_type': <class 'palin.simulation.trial.Int2Trial'>, 'n_features': 22, 'external_noise_std': 100, 'kernel': 'random', 'internal_noise_std': 1, 'criteria': 0, 'kernel_analyser': <class 'palin.kernels.classification_images.ClassificationImage'>}\n",
      "....................................................................................................\n",
      "{'n_trials': 1, 'trial_type': <class 'palin.simulation.trial.Int2Trial'>, 'n_features': 32, 'external_noise_std': 100, 'kernel': 'random', 'internal_noise_std': 1, 'criteria': 0, 'kernel_analyser': <class 'palin.kernels.classification_images.ClassificationImage'>}\n",
      "....................................................................................................\n",
      "{'n_trials': 1, 'trial_type': <class 'palin.simulation.trial.Int2Trial'>, 'n_features': 42, 'external_noise_std': 100, 'kernel': 'random', 'internal_noise_std': 1, 'criteria': 0, 'kernel_analyser': <class 'palin.kernels.classification_images.ClassificationImage'>}\n",
      "....................................................................................................\n",
      "{'n_trials': 1, 'trial_type': <class 'palin.simulation.trial.Int2Trial'>, 'n_features': 52, 'external_noise_std': 100, 'kernel': 'random', 'internal_noise_std': 1, 'criteria': 0, 'kernel_analyser': <class 'palin.kernels.classification_images.ClassificationImage'>}\n",
      "....................................................................................................\n",
      "{'n_trials': 1, 'trial_type': <class 'palin.simulation.trial.Int2Trial'>, 'n_features': 62, 'external_noise_std': 100, 'kernel': 'random', 'internal_noise_std': 1, 'criteria': 0, 'kernel_analyser': <class 'palin.kernels.classification_images.ClassificationImage'>}\n",
      "....................................................................................................\n",
      "{'n_trials': 1, 'trial_type': <class 'palin.simulation.trial.Int2Trial'>, 'n_features': 72, 'external_noise_std': 100, 'kernel': 'random', 'internal_noise_std': 1, 'criteria': 0, 'kernel_analyser': <class 'palin.kernels.classification_images.ClassificationImage'>}\n",
      "....................................................................................................\n",
      "{'n_trials': 1, 'trial_type': <class 'palin.simulation.trial.Int2Trial'>, 'n_features': 82, 'external_noise_std': 100, 'kernel': 'random', 'internal_noise_std': 1, 'criteria': 0, 'kernel_analyser': <class 'palin.kernels.classification_images.ClassificationImage'>}\n",
      "....................................................................................................\n",
      "{'n_trials': 1, 'trial_type': <class 'palin.simulation.trial.Int2Trial'>, 'n_features': 92, 'external_noise_std': 100, 'kernel': 'random', 'internal_noise_std': 1, 'criteria': 0, 'kernel_analyser': <class 'palin.kernels.classification_images.ClassificationImage'>}\n",
      "....................................................................................................\n",
      "{'n_trials': 101, 'trial_type': <class 'palin.simulation.trial.Int2Trial'>, 'n_features': 2, 'external_noise_std': 100, 'kernel': 'random', 'internal_noise_std': 1, 'criteria': 0, 'kernel_analyser': <class 'palin.kernels.classification_images.ClassificationImage'>}\n",
      "....................................................................................................\n",
      "{'n_trials': 101, 'trial_type': <class 'palin.simulation.trial.Int2Trial'>, 'n_features': 12, 'external_noise_std': 100, 'kernel': 'random', 'internal_noise_std': 1, 'criteria': 0, 'kernel_analyser': <class 'palin.kernels.classification_images.ClassificationImage'>}\n",
      "....................................................................................................\n",
      "{'n_trials': 101, 'trial_type': <class 'palin.simulation.trial.Int2Trial'>, 'n_features': 22, 'external_noise_std': 100, 'kernel': 'random', 'internal_noise_std': 1, 'criteria': 0, 'kernel_analyser': <class 'palin.kernels.classification_images.ClassificationImage'>}\n",
      "....................................................................................................\n",
      "{'n_trials': 101, 'trial_type': <class 'palin.simulation.trial.Int2Trial'>, 'n_features': 32, 'external_noise_std': 100, 'kernel': 'random', 'internal_noise_std': 1, 'criteria': 0, 'kernel_analyser': <class 'palin.kernels.classification_images.ClassificationImage'>}\n",
      "....................................................................................................\n",
      "{'n_trials': 101, 'trial_type': <class 'palin.simulation.trial.Int2Trial'>, 'n_features': 42, 'external_noise_std': 100, 'kernel': 'random', 'internal_noise_std': 1, 'criteria': 0, 'kernel_analyser': <class 'palin.kernels.classification_images.ClassificationImage'>}\n",
      "....................................................................................................\n",
      "{'n_trials': 101, 'trial_type': <class 'palin.simulation.trial.Int2Trial'>, 'n_features': 52, 'external_noise_std': 100, 'kernel': 'random', 'internal_noise_std': 1, 'criteria': 0, 'kernel_analyser': <class 'palin.kernels.classification_images.ClassificationImage'>}\n",
      "....................................................................................................\n",
      "{'n_trials': 101, 'trial_type': <class 'palin.simulation.trial.Int2Trial'>, 'n_features': 62, 'external_noise_std': 100, 'kernel': 'random', 'internal_noise_std': 1, 'criteria': 0, 'kernel_analyser': <class 'palin.kernels.classification_images.ClassificationImage'>}\n",
      "....................................................................................................\n",
      "{'n_trials': 101, 'trial_type': <class 'palin.simulation.trial.Int2Trial'>, 'n_features': 72, 'external_noise_std': 100, 'kernel': 'random', 'internal_noise_std': 1, 'criteria': 0, 'kernel_analyser': <class 'palin.kernels.classification_images.ClassificationImage'>}\n",
      "....................................................................................................\n",
      "{'n_trials': 101, 'trial_type': <class 'palin.simulation.trial.Int2Trial'>, 'n_features': 82, 'external_noise_std': 100, 'kernel': 'random', 'internal_noise_std': 1, 'criteria': 0, 'kernel_analyser': <class 'palin.kernels.classification_images.ClassificationImage'>}\n",
      "....................................................................................................\n",
      "{'n_trials': 101, 'trial_type': <class 'palin.simulation.trial.Int2Trial'>, 'n_features': 92, 'external_noise_std': 100, 'kernel': 'random', 'internal_noise_std': 1, 'criteria': 0, 'kernel_analyser': <class 'palin.kernels.classification_images.ClassificationImage'>}\n",
      "....................................................................................................\n",
      "{'n_trials': 201, 'trial_type': <class 'palin.simulation.trial.Int2Trial'>, 'n_features': 2, 'external_noise_std': 100, 'kernel': 'random', 'internal_noise_std': 1, 'criteria': 0, 'kernel_analyser': <class 'palin.kernels.classification_images.ClassificationImage'>}\n",
      "....................................................................................................\n",
      "{'n_trials': 201, 'trial_type': <class 'palin.simulation.trial.Int2Trial'>, 'n_features': 12, 'external_noise_std': 100, 'kernel': 'random', 'internal_noise_std': 1, 'criteria': 0, 'kernel_analyser': <class 'palin.kernels.classification_images.ClassificationImage'>}\n",
      "....................................................................................................\n",
      "{'n_trials': 201, 'trial_type': <class 'palin.simulation.trial.Int2Trial'>, 'n_features': 22, 'external_noise_std': 100, 'kernel': 'random', 'internal_noise_std': 1, 'criteria': 0, 'kernel_analyser': <class 'palin.kernels.classification_images.ClassificationImage'>}\n"
     ]
    },
    {
     "name": "stdout",
     "output_type": "stream",
     "text": [
      "....................................................................................................\n",
      "{'n_trials': 201, 'trial_type': <class 'palin.simulation.trial.Int2Trial'>, 'n_features': 32, 'external_noise_std': 100, 'kernel': 'random', 'internal_noise_std': 1, 'criteria': 0, 'kernel_analyser': <class 'palin.kernels.classification_images.ClassificationImage'>}\n",
      "....................................................................................................\n",
      "{'n_trials': 201, 'trial_type': <class 'palin.simulation.trial.Int2Trial'>, 'n_features': 42, 'external_noise_std': 100, 'kernel': 'random', 'internal_noise_std': 1, 'criteria': 0, 'kernel_analyser': <class 'palin.kernels.classification_images.ClassificationImage'>}\n",
      "....................................................................................................\n",
      "{'n_trials': 201, 'trial_type': <class 'palin.simulation.trial.Int2Trial'>, 'n_features': 52, 'external_noise_std': 100, 'kernel': 'random', 'internal_noise_std': 1, 'criteria': 0, 'kernel_analyser': <class 'palin.kernels.classification_images.ClassificationImage'>}\n",
      "....................................................................................................\n",
      "{'n_trials': 201, 'trial_type': <class 'palin.simulation.trial.Int2Trial'>, 'n_features': 62, 'external_noise_std': 100, 'kernel': 'random', 'internal_noise_std': 1, 'criteria': 0, 'kernel_analyser': <class 'palin.kernels.classification_images.ClassificationImage'>}\n",
      "....................................................................................................\n",
      "{'n_trials': 201, 'trial_type': <class 'palin.simulation.trial.Int2Trial'>, 'n_features': 72, 'external_noise_std': 100, 'kernel': 'random', 'internal_noise_std': 1, 'criteria': 0, 'kernel_analyser': <class 'palin.kernels.classification_images.ClassificationImage'>}\n",
      "....................................................................................................\n",
      "{'n_trials': 201, 'trial_type': <class 'palin.simulation.trial.Int2Trial'>, 'n_features': 82, 'external_noise_std': 100, 'kernel': 'random', 'internal_noise_std': 1, 'criteria': 0, 'kernel_analyser': <class 'palin.kernels.classification_images.ClassificationImage'>}\n",
      "....................................................................................................\n",
      "{'n_trials': 201, 'trial_type': <class 'palin.simulation.trial.Int2Trial'>, 'n_features': 92, 'external_noise_std': 100, 'kernel': 'random', 'internal_noise_std': 1, 'criteria': 0, 'kernel_analyser': <class 'palin.kernels.classification_images.ClassificationImage'>}\n",
      "....................................................................................................\n",
      "{'n_trials': 301, 'trial_type': <class 'palin.simulation.trial.Int2Trial'>, 'n_features': 2, 'external_noise_std': 100, 'kernel': 'random', 'internal_noise_std': 1, 'criteria': 0, 'kernel_analyser': <class 'palin.kernels.classification_images.ClassificationImage'>}\n",
      "....................................................................................................\n",
      "{'n_trials': 301, 'trial_type': <class 'palin.simulation.trial.Int2Trial'>, 'n_features': 12, 'external_noise_std': 100, 'kernel': 'random', 'internal_noise_std': 1, 'criteria': 0, 'kernel_analyser': <class 'palin.kernels.classification_images.ClassificationImage'>}\n",
      "....................................................................................................\n",
      "{'n_trials': 301, 'trial_type': <class 'palin.simulation.trial.Int2Trial'>, 'n_features': 22, 'external_noise_std': 100, 'kernel': 'random', 'internal_noise_std': 1, 'criteria': 0, 'kernel_analyser': <class 'palin.kernels.classification_images.ClassificationImage'>}\n",
      "....................................................................................................\n",
      "{'n_trials': 301, 'trial_type': <class 'palin.simulation.trial.Int2Trial'>, 'n_features': 32, 'external_noise_std': 100, 'kernel': 'random', 'internal_noise_std': 1, 'criteria': 0, 'kernel_analyser': <class 'palin.kernels.classification_images.ClassificationImage'>}\n",
      "....................................................................................................\n",
      "{'n_trials': 301, 'trial_type': <class 'palin.simulation.trial.Int2Trial'>, 'n_features': 42, 'external_noise_std': 100, 'kernel': 'random', 'internal_noise_std': 1, 'criteria': 0, 'kernel_analyser': <class 'palin.kernels.classification_images.ClassificationImage'>}\n",
      "....................................................................................................\n",
      "{'n_trials': 301, 'trial_type': <class 'palin.simulation.trial.Int2Trial'>, 'n_features': 52, 'external_noise_std': 100, 'kernel': 'random', 'internal_noise_std': 1, 'criteria': 0, 'kernel_analyser': <class 'palin.kernels.classification_images.ClassificationImage'>}\n",
      "....................................................................................................\n",
      "{'n_trials': 301, 'trial_type': <class 'palin.simulation.trial.Int2Trial'>, 'n_features': 62, 'external_noise_std': 100, 'kernel': 'random', 'internal_noise_std': 1, 'criteria': 0, 'kernel_analyser': <class 'palin.kernels.classification_images.ClassificationImage'>}\n",
      "....................................................................................................\n",
      "{'n_trials': 301, 'trial_type': <class 'palin.simulation.trial.Int2Trial'>, 'n_features': 72, 'external_noise_std': 100, 'kernel': 'random', 'internal_noise_std': 1, 'criteria': 0, 'kernel_analyser': <class 'palin.kernels.classification_images.ClassificationImage'>}\n",
      "....................................................................................................\n",
      "{'n_trials': 301, 'trial_type': <class 'palin.simulation.trial.Int2Trial'>, 'n_features': 82, 'external_noise_std': 100, 'kernel': 'random', 'internal_noise_std': 1, 'criteria': 0, 'kernel_analyser': <class 'palin.kernels.classification_images.ClassificationImage'>}\n",
      "....................................................................................................\n",
      "{'n_trials': 301, 'trial_type': <class 'palin.simulation.trial.Int2Trial'>, 'n_features': 92, 'external_noise_std': 100, 'kernel': 'random', 'internal_noise_std': 1, 'criteria': 0, 'kernel_analyser': <class 'palin.kernels.classification_images.ClassificationImage'>}\n",
      "....................................................................................................\n",
      "{'n_trials': 401, 'trial_type': <class 'palin.simulation.trial.Int2Trial'>, 'n_features': 2, 'external_noise_std': 100, 'kernel': 'random', 'internal_noise_std': 1, 'criteria': 0, 'kernel_analyser': <class 'palin.kernels.classification_images.ClassificationImage'>}\n",
      "....................................................................................................\n",
      "{'n_trials': 401, 'trial_type': <class 'palin.simulation.trial.Int2Trial'>, 'n_features': 12, 'external_noise_std': 100, 'kernel': 'random', 'internal_noise_std': 1, 'criteria': 0, 'kernel_analyser': <class 'palin.kernels.classification_images.ClassificationImage'>}\n",
      "....................................................................................................\n",
      "{'n_trials': 401, 'trial_type': <class 'palin.simulation.trial.Int2Trial'>, 'n_features': 22, 'external_noise_std': 100, 'kernel': 'random', 'internal_noise_std': 1, 'criteria': 0, 'kernel_analyser': <class 'palin.kernels.classification_images.ClassificationImage'>}\n",
      "....................................................................................................\n",
      "{'n_trials': 401, 'trial_type': <class 'palin.simulation.trial.Int2Trial'>, 'n_features': 32, 'external_noise_std': 100, 'kernel': 'random', 'internal_noise_std': 1, 'criteria': 0, 'kernel_analyser': <class 'palin.kernels.classification_images.ClassificationImage'>}\n",
      "....................................................................................................\n",
      "{'n_trials': 401, 'trial_type': <class 'palin.simulation.trial.Int2Trial'>, 'n_features': 42, 'external_noise_std': 100, 'kernel': 'random', 'internal_noise_std': 1, 'criteria': 0, 'kernel_analyser': <class 'palin.kernels.classification_images.ClassificationImage'>}\n",
      "....................................................................................................\n",
      "{'n_trials': 401, 'trial_type': <class 'palin.simulation.trial.Int2Trial'>, 'n_features': 52, 'external_noise_std': 100, 'kernel': 'random', 'internal_noise_std': 1, 'criteria': 0, 'kernel_analyser': <class 'palin.kernels.classification_images.ClassificationImage'>}\n"
     ]
    },
    {
     "name": "stdout",
     "output_type": "stream",
     "text": [
      "....................................................................................................\n",
      "{'n_trials': 401, 'trial_type': <class 'palin.simulation.trial.Int2Trial'>, 'n_features': 62, 'external_noise_std': 100, 'kernel': 'random', 'internal_noise_std': 1, 'criteria': 0, 'kernel_analyser': <class 'palin.kernels.classification_images.ClassificationImage'>}\n",
      "....................................................................................................\n",
      "{'n_trials': 401, 'trial_type': <class 'palin.simulation.trial.Int2Trial'>, 'n_features': 72, 'external_noise_std': 100, 'kernel': 'random', 'internal_noise_std': 1, 'criteria': 0, 'kernel_analyser': <class 'palin.kernels.classification_images.ClassificationImage'>}\n",
      "....................................................................................................\n",
      "{'n_trials': 401, 'trial_type': <class 'palin.simulation.trial.Int2Trial'>, 'n_features': 82, 'external_noise_std': 100, 'kernel': 'random', 'internal_noise_std': 1, 'criteria': 0, 'kernel_analyser': <class 'palin.kernels.classification_images.ClassificationImage'>}\n",
      "....................................................................................................\n",
      "{'n_trials': 401, 'trial_type': <class 'palin.simulation.trial.Int2Trial'>, 'n_features': 92, 'external_noise_std': 100, 'kernel': 'random', 'internal_noise_std': 1, 'criteria': 0, 'kernel_analyser': <class 'palin.kernels.classification_images.ClassificationImage'>}\n",
      "....................................................................................................\n",
      "{'n_trials': 501, 'trial_type': <class 'palin.simulation.trial.Int2Trial'>, 'n_features': 2, 'external_noise_std': 100, 'kernel': 'random', 'internal_noise_std': 1, 'criteria': 0, 'kernel_analyser': <class 'palin.kernels.classification_images.ClassificationImage'>}\n",
      "....................................................................................................\n",
      "{'n_trials': 501, 'trial_type': <class 'palin.simulation.trial.Int2Trial'>, 'n_features': 12, 'external_noise_std': 100, 'kernel': 'random', 'internal_noise_std': 1, 'criteria': 0, 'kernel_analyser': <class 'palin.kernels.classification_images.ClassificationImage'>}\n",
      "....................................................................................................\n",
      "{'n_trials': 501, 'trial_type': <class 'palin.simulation.trial.Int2Trial'>, 'n_features': 22, 'external_noise_std': 100, 'kernel': 'random', 'internal_noise_std': 1, 'criteria': 0, 'kernel_analyser': <class 'palin.kernels.classification_images.ClassificationImage'>}\n",
      "....................................................................................................\n",
      "{'n_trials': 501, 'trial_type': <class 'palin.simulation.trial.Int2Trial'>, 'n_features': 32, 'external_noise_std': 100, 'kernel': 'random', 'internal_noise_std': 1, 'criteria': 0, 'kernel_analyser': <class 'palin.kernels.classification_images.ClassificationImage'>}\n",
      "....................................................................................................\n",
      "{'n_trials': 501, 'trial_type': <class 'palin.simulation.trial.Int2Trial'>, 'n_features': 42, 'external_noise_std': 100, 'kernel': 'random', 'internal_noise_std': 1, 'criteria': 0, 'kernel_analyser': <class 'palin.kernels.classification_images.ClassificationImage'>}\n",
      "....................................................................................................\n",
      "{'n_trials': 501, 'trial_type': <class 'palin.simulation.trial.Int2Trial'>, 'n_features': 52, 'external_noise_std': 100, 'kernel': 'random', 'internal_noise_std': 1, 'criteria': 0, 'kernel_analyser': <class 'palin.kernels.classification_images.ClassificationImage'>}\n",
      "....................................................................................................\n",
      "{'n_trials': 501, 'trial_type': <class 'palin.simulation.trial.Int2Trial'>, 'n_features': 62, 'external_noise_std': 100, 'kernel': 'random', 'internal_noise_std': 1, 'criteria': 0, 'kernel_analyser': <class 'palin.kernels.classification_images.ClassificationImage'>}\n",
      "....................................................................................................\n",
      "{'n_trials': 501, 'trial_type': <class 'palin.simulation.trial.Int2Trial'>, 'n_features': 72, 'external_noise_std': 100, 'kernel': 'random', 'internal_noise_std': 1, 'criteria': 0, 'kernel_analyser': <class 'palin.kernels.classification_images.ClassificationImage'>}\n",
      "....................................................................................................\n",
      "{'n_trials': 501, 'trial_type': <class 'palin.simulation.trial.Int2Trial'>, 'n_features': 82, 'external_noise_std': 100, 'kernel': 'random', 'internal_noise_std': 1, 'criteria': 0, 'kernel_analyser': <class 'palin.kernels.classification_images.ClassificationImage'>}\n",
      "....................................................................................................\n",
      "{'n_trials': 501, 'trial_type': <class 'palin.simulation.trial.Int2Trial'>, 'n_features': 92, 'external_noise_std': 100, 'kernel': 'random', 'internal_noise_std': 1, 'criteria': 0, 'kernel_analyser': <class 'palin.kernels.classification_images.ClassificationImage'>}\n",
      "....................................................................................................\n",
      "{'n_trials': 601, 'trial_type': <class 'palin.simulation.trial.Int2Trial'>, 'n_features': 2, 'external_noise_std': 100, 'kernel': 'random', 'internal_noise_std': 1, 'criteria': 0, 'kernel_analyser': <class 'palin.kernels.classification_images.ClassificationImage'>}\n",
      "....................................................................................................\n",
      "{'n_trials': 601, 'trial_type': <class 'palin.simulation.trial.Int2Trial'>, 'n_features': 12, 'external_noise_std': 100, 'kernel': 'random', 'internal_noise_std': 1, 'criteria': 0, 'kernel_analyser': <class 'palin.kernels.classification_images.ClassificationImage'>}\n",
      "....................................................................................................\n",
      "{'n_trials': 601, 'trial_type': <class 'palin.simulation.trial.Int2Trial'>, 'n_features': 22, 'external_noise_std': 100, 'kernel': 'random', 'internal_noise_std': 1, 'criteria': 0, 'kernel_analyser': <class 'palin.kernels.classification_images.ClassificationImage'>}\n",
      ".........."
     ]
    }
   ],
   "source": [
    "# obs = Obs.with_random_kernel(n_features=5, internal_noise_std=0, criteria=0)\n",
    "\n",
    "observer_params = {'kernel':['random'],\n",
    "                   'internal_noise_std':[1], \n",
    "                  'criteria':[0]}\n",
    "experiment_params = {'n_trials':np.arange(1,1000,100),\n",
    "                     'trial_type': [Int2Trial],\n",
    "                     'n_features': np.arange(2,100,10),\n",
    "                     'external_noise_std': [100]}\n",
    "analyser_params = {'kernel_analyser':[ClassificationImage]}\n",
    "\n",
    "\n",
    "sim = Sim(Exp, experiment_params, \n",
    "          Obs, observer_params, \n",
    "          Analyser, analyser_params)\n",
    "sim_df = sim.run_all(n_samples=100)\n",
    "\n",
    "\n",
    "\n",
    "\n"
   ]
  },
  {
   "cell_type": "code",
   "execution_count": 151,
   "id": "3c925055",
   "metadata": {
    "ExecuteTime": {
     "end_time": "2024-04-09T19:19:35.346726Z",
     "start_time": "2024-04-09T19:19:34.771230Z"
    }
   },
   "outputs": [
    {
     "data": {
      "text/plain": [
       "<Axes: xlabel='n_trials', ylabel='metric'>"
      ]
     },
     "execution_count": 151,
     "metadata": {},
     "output_type": "execute_result"
    },
    {
     "data": {
      "image/png": "[encoded data removed]",
      "text/plain": [
       "<Figure size 640x480 with 1 Axes>"
      ]
     },
     "metadata": {},
     "output_type": "display_data"
    }
   ],
   "source": [
    "sns.lineplot(data=sim_df, \n",
    "             x='n_trials',\n",
    "             y='metric', hue='n_features')"
   ]
  },
  {
   "cell_type": "code",
   "execution_count": 67,
   "id": "f65f5044",
   "metadata": {
    "ExecuteTime": {
     "end_time": "2024-04-09T17:49:49.786914Z",
     "start_time": "2024-04-09T17:49:49.783924Z"
    }
   },
   "outputs": [
    {
     "name": "stdout",
     "output_type": "stream",
     "text": [
      "kernel\n",
      "internal_noise_std\n",
      "criteria\n",
      "bla\n"
     ]
    }
   ],
   "source": [
    "for k in observer_params: \n",
    "    print(k)"
   ]
  },
  {
   "cell_type": "code",
   "execution_count": null,
   "id": "62579d26",
   "metadata": {},
   "outputs": [],
   "source": []
  }
 ],
 "metadata": {
  "kernelspec": {
   "display_name": "Python 3 (ipykernel)",
   "language": "python",
   "name": "python3"
  },
  "language_info": {
   "codemirror_mode": {
    "name": "ipython",
    "version": 3
   },
   "file_extension": ".py",
   "mimetype": "text/x-python",
   "name": "python",
   "nbconvert_exporter": "python",
   "pygments_lexer": "ipython3",
   "version": "3.8.10"
  },
  "toc": {
   "base_numbering": 1,
   "nav_menu": {},
   "number_sections": true,
   "sideBar": true,
   "skip_h1_title": true,
   "title_cell": "Table of Contents",
   "title_sidebar": "Contents",
   "toc_cell": false,
   "toc_position": {},
   "toc_section_display": true,
   "toc_window_display": true
  }
 },
 "nbformat": 4,
 "nbformat_minor": 5
}
