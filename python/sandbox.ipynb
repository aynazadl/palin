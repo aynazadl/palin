{
 "cells": [
  {
   "cell_type": "code",
   "execution_count": 5,
   "id": "7d992d8b",
   "metadata": {
    "ExecuteTime": {
     "end_time": "2024-07-02T05:35:49.757219Z",
     "start_time": "2024-07-02T05:35:49.666461Z"
    }
   },
   "outputs": [
    {
     "name": "stdout",
     "output_type": "stream",
     "text": [
      "The autoreload extension is already loaded. To reload it, use:\n",
      "  %reload_ext autoreload\n"
     ]
    }
   ],
   "source": [
    "%load_ext autoreload\n",
    "%autoreload 2"
   ]
  },
  {
   "cell_type": "code",
   "execution_count": 6,
   "id": "46bcc969",
   "metadata": {
    "ExecuteTime": {
     "end_time": "2024-07-02T05:35:49.974205Z",
     "start_time": "2024-07-02T05:35:49.902397Z"
    }
   },
   "outputs": [],
   "source": [
    "import os, sys\n",
    "import numpy as np\n",
    "import pandas as pd\n",
    "import seaborn as sns\n",
    "from matplotlib import pyplot as plt"
   ]
  },
  {
   "cell_type": "code",
   "execution_count": 7,
   "id": "a2918243",
   "metadata": {
    "ExecuteTime": {
     "end_time": "2024-07-02T05:35:50.430203Z",
     "start_time": "2024-07-02T05:35:50.361387Z"
    }
   },
   "outputs": [],
   "source": [
    "sys.path.insert(0, os.path.abspath('../palin/python'))"
   ]
  },
  {
   "cell_type": "code",
   "execution_count": 8,
   "id": "0d89531b",
   "metadata": {
    "ExecuteTime": {
     "end_time": "2024-07-02T05:35:50.965339Z",
     "start_time": "2024-07-02T05:35:50.900511Z"
    }
   },
   "outputs": [],
   "source": [
    "from palin.simulation.experiment import Experiment\n",
    "from palin.simulation.experiments.simple_experiment import SimpleExperiment\n",
    "from palin.simulation.experiments.double_pass_experiment import DoublePassExperiment\n",
    "from palin.simulation.trial import Int2Trial, Int1Trial \n",
    "from palin.simulation.observers.linear_observer import LinearObserver\n",
    "from palin.simulation.analysers.kernel_distance import KernelDistance\n",
    "from palin.simulation.analysers.internal_noise_value import InternalNoiseValue\n",
    "from palin.simulation.analysers.double_pass_statistics import DoublePassStatistics\n",
    "from palin.kernels.classification_images import ClassificationImage\n",
    "from palin.internal_noise.double_pass import DoublePass\n",
    "from palin.simulation.simulation import Simulation as Sim"
   ]
  },
  {
   "cell_type": "markdown",
   "id": "4bb1acbc",
   "metadata": {},
   "source": [
    "## Simulate with internal noise"
   ]
  },
  {
   "cell_type": "markdown",
   "id": "a86b27ab",
   "metadata": {},
   "source": [
    "Single run"
   ]
  },
  {
   "cell_type": "code",
   "execution_count": null,
   "id": "d811f66f",
   "metadata": {
    "ExecuteTime": {
     "end_time": "2024-07-01T04:38:03.519147Z",
     "start_time": "2024-07-01T04:38:02.957163Z"
    }
   },
   "outputs": [],
   "source": [
    "# single run: \n",
    "exp = DoublePassExperiment(n_trials = 1000, n_repeated=200,\n",
    "          trial_type = Int2Trial, \n",
    "          n_features = 5, \n",
    "          external_noise_std = 100)\n",
    "obs = LinearObserver.with_random_kernel(n_features = exp.n_features, \n",
    "                            internal_noise_std = 1, \n",
    "                            criteria = 0)\n",
    "responses = obs.respond_to_experiment(exp)\n",
    "ana = InternalNoiseValue(internal_noise_extractor = DoublePass, model_file='model.csv')\n",
    "data = ana.analyse(exp, obs, responses)\n",
    "for name, value in zip(ana.get_metric_names(), data): \n",
    "    print(\"%s: %f\"%(name, value))"
   ]
  },
  {
   "cell_type": "markdown",
   "id": "328bd8a6",
   "metadata": {},
   "source": [
    "Simulation"
   ]
  },
  {
   "cell_type": "code",
   "execution_count": null,
   "id": "756a4f5e",
   "metadata": {
    "ExecuteTime": {
     "end_time": "2024-07-01T05:07:46.199904Z",
     "start_time": "2024-07-01T05:07:23.211003Z"
    },
    "scrolled": false
   },
   "outputs": [],
   "source": [
    "observer_params = {'kernel':['random'],#[[0,0,0,0,0]]\n",
    "                   'internal_noise_std':np.arange(0,5.1,0.1), \n",
    "                  'criteria':[0]}\n",
    "experiment_params = {'n_trials':[1000], \n",
    "                     'n_repeated':[200],\n",
    "                     'trial_type': [Int2Trial],\n",
    "                     'n_features': [5],\n",
    "                     'external_noise_std': [1]}\n",
    "analyser_params = {'internal_noise_extractor':[DoublePass], \n",
    "                   'model_file': ['model.csv'], \n",
    "                   'rebuild_model': [False]}\n",
    "                   #'internal_noise_range':[np.arange(0,5.1,0.1)],\n",
    "                   #'criteria_range':[np.arange(-5,5,0.1)],\n",
    "                   #'n_runs':[2]}\n",
    "                  \n",
    "sim = Sim(DoublePassExperiment, experiment_params, \n",
    "          LinearObserver, observer_params, \n",
    "          InternalNoiseValue, analyser_params)\n",
    "sim_df = sim.run_all_single_thread(n_runs=1)\n",
    "\n"
   ]
  },
  {
   "cell_type": "code",
   "execution_count": null,
   "id": "e8ae8b3e",
   "metadata": {
    "ExecuteTime": {
     "end_time": "2024-06-30T13:19:10.817046Z",
     "start_time": "2024-06-30T13:19:10.585272Z"
    }
   },
   "outputs": [],
   "source": [
    "sns.lineplot(data=sim_df, x='internal_noise_std', y='estimated_internal_noise')\n",
    "plt.plot([0,5],[0,5],':')"
   ]
  },
  {
   "cell_type": "markdown",
   "id": "a1c579f9",
   "metadata": {},
   "source": [
    "## Experiment with multiprocessing"
   ]
  },
  {
   "cell_type": "code",
   "execution_count": null,
   "id": "8e44fec6",
   "metadata": {
    "ExecuteTime": {
     "start_time": "2024-07-02T05:42:30.015Z"
    },
    "scrolled": false
   },
   "outputs": [
    {
     "name": "stderr",
     "output_type": "stream",
     "text": [
      " 50%|█████     | 1/2 [00:00<00:00,  1.38it/s]"
     ]
    }
   ],
   "source": [
    "observer_params = {'kernel':['random'],#[[0,0,0,0,0]]\n",
    "                   'internal_noise_std':np.arange(0,5.1,0.1), \n",
    "                  'criteria':[0]}\n",
    "experiment_params = {'n_trials':[1000], \n",
    "                     'n_repeated':[200],\n",
    "                     'trial_type': [Int2Trial],\n",
    "                     'n_features': [5],\n",
    "                     'external_noise_std': [1]}\n",
    "analyser_params = {'internal_noise_extractor':[DoublePass], \n",
    "                   'model_file': ['model.csv'], \n",
    "                   'rebuild_model': [False]}\n",
    "                   #'internal_noise_range':[np.arange(0,5.1,0.1)],\n",
    "                   #'criteria_range':[np.arange(-5,5,0.1)],\n",
    "                   #'n_runs':[2]}\n",
    "                  \n",
    "sim = Sim(DoublePassExperiment, experiment_params, \n",
    "          LinearObserver, observer_params, \n",
    "          InternalNoiseValue, analyser_params)\n",
    "\n",
    "sim.run_all_multi_thread(n_runs=1)\n"
   ]
  },
  {
   "cell_type": "code",
   "execution_count": null,
   "id": "75330781",
   "metadata": {
    "ExecuteTime": {
     "end_time": "2024-04-11T20:09:16.840733Z",
     "start_time": "2024-04-11T13:04:43.045583Z"
    },
    "scrolled": false
   },
   "outputs": [],
   "source": [
    "model = DoublePass.build_model(internal_noise_range=np.arange(0,5,.1),\n",
    "                               criteria_range=np.arange(-5,5,.5),\n",
    "                               n_repeated_trials=1000, n_runs=10)"
   ]
  },
  {
   "cell_type": "code",
   "execution_count": null,
   "id": "3aa758df",
   "metadata": {},
   "outputs": [],
   "source": [
    "model.to_csv('model_large.csv')"
   ]
  },
  {
   "cell_type": "markdown",
   "id": "9b24c8a7",
   "metadata": {},
   "source": [
    "## Simulate with kernels"
   ]
  },
  {
   "cell_type": "markdown",
   "id": "f2ef12e5",
   "metadata": {},
   "source": [
    "Single run"
   ]
  },
  {
   "cell_type": "code",
   "execution_count": null,
   "id": "05344c6a",
   "metadata": {
    "ExecuteTime": {
     "end_time": "2024-04-22T15:16:15.983628Z",
     "start_time": "2024-04-22T15:16:15.907873Z"
    }
   },
   "outputs": [],
   "source": [
    "# single run: \n",
    "exp = SimpleExperiment(n_trials = 100,\n",
    "          trial_type = Int2Trial, \n",
    "          n_features = 5, \n",
    "          external_noise_std = 100)\n",
    "obs = LinearObserver.with_random_kernel(n_features = 5, \n",
    "                            internal_noise_std = 1, \n",
    "                            criteria = 0)\n",
    "responses = obs.respond_to_experiment(exp)\n",
    "ka = KernelDistance(LMMExtractor)\n",
    "ka.analyse(exp, obs, responses)"
   ]
  },
  {
   "cell_type": "code",
   "execution_count": null,
   "id": "3be5f6d4",
   "metadata": {
    "ExecuteTime": {
     "end_time": "2024-04-22T15:25:14.869455Z",
     "start_time": "2024-04-22T15:25:14.161322Z"
    },
    "scrolled": false
   },
   "outputs": [],
   "source": [
    "# obs = Obs.with_random_kernel(n_features=5, internal_noise_std=0, criteria=0)\n",
    "\n",
    "observer_params = {'kernel':['random'],\n",
    "                   'internal_noise_std':[1], \n",
    "                  'criteria':[0]}\n",
    "experiment_params = {'n_trials':[100],#np.arange(1,1000,100),\n",
    "                     'trial_type': [Int2Trial],\n",
    "                     'n_features': np.arange(2,10,1),\n",
    "                     'external_noise_std': [100]}\n",
    "analyser_params = {'kernel_extractor':[ClassificationImage], \n",
    "                  'distance':['CORR']}\n",
    "\n",
    "\n",
    "sim = Sim(SimpleExperiment, experiment_params, \n",
    "          LinearObserver, observer_params, \n",
    "          KernelDistance, analyser_params)\n",
    "sim_df = sim.run_all(n_runs=10)\n",
    "\n",
    "\n",
    "\n",
    "\n"
   ]
  },
  {
   "cell_type": "code",
   "execution_count": null,
   "id": "08c72500",
   "metadata": {
    "ExecuteTime": {
     "end_time": "2024-04-22T15:25:00.794937Z",
     "start_time": "2024-04-22T15:25:00.725115Z"
    }
   },
   "outputs": [],
   "source": [
    "sim_df"
   ]
  },
  {
   "cell_type": "code",
   "execution_count": null,
   "id": "3cf96952",
   "metadata": {
    "ExecuteTime": {
     "end_time": "2024-04-22T15:25:05.788313Z",
     "start_time": "2024-04-22T15:25:05.446037Z"
    }
   },
   "outputs": [],
   "source": [
    "sns.lineplot(data=sim_df, \n",
    "             x='n_features',\n",
    "             y='corr')#, hue='n_features')"
   ]
  },
  {
   "cell_type": "code",
   "execution_count": null,
   "id": "b280d71c",
   "metadata": {},
   "outputs": [],
   "source": []
  }
 ],
 "metadata": {
  "kernelspec": {
   "display_name": "Python 3 (ipykernel)",
   "language": "python",
   "name": "python3"
  },
  "language_info": {
   "codemirror_mode": {
    "name": "ipython",
    "version": 3
   },
   "file_extension": ".py",
   "mimetype": "text/x-python",
   "name": "python",
   "nbconvert_exporter": "python",
   "pygments_lexer": "ipython3",
   "version": "3.8.10"
  },
  "toc": {
   "base_numbering": 1,
   "nav_menu": {},
   "number_sections": true,
   "sideBar": true,
   "skip_h1_title": true,
   "title_cell": "Table of Contents",
   "title_sidebar": "Contents",
   "toc_cell": false,
   "toc_position": {},
   "toc_section_display": true,
   "toc_window_display": true
  }
 },
 "nbformat": 4,
 "nbformat_minor": 5
}
